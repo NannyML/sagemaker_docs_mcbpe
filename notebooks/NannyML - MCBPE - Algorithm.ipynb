{
 "cells": [
  {
   "cell_type": "markdown",
   "metadata": {},
   "source": [
    "# Using NannyML Multicalibrated Confidence Based Performance Estimation (MCBPE) Algorithm from AWS Marketplace "
   ]
  },
  {
   "cell_type": "markdown",
   "metadata": {},
   "source": [
    "## Overview\n",
    "\n",
    "NannyML can estimate the performance of a machine learning model running in production. You can read more about how it works [here](https://nannyml.readthedocs.io/en/stable/how_it_works/performance_estimation.html).\n",
    "\n",
    "\n",
    "This sample notebook shows you how to use [NannyML MCBPE Algorithm](https://aws.amazon.com/marketplace/pp/prodview-???) from AWS Marketplace to estimate the performance of your deployed machine learnign models.\n",
    "\n",
    "The MCBPE algorithm Performance Estimation works for binary classification. A future upgrade will also enable support for multiclass classification.\n",
    "\n",
    "> **Note**: This is a reference notebook and it cannot run unless you make changes suggested in the notebook.\n",
    "\n",
    "## Pre-requisites\n",
    "1. **Note**: This notebook contains elements which render correctly in Jupyter interface. Open this notebook from an Amazon SageMaker Notebook Instance or Amazon SageMaker Studio.\n",
    "1. Ensure that IAM role used has **AmazonSageMakerFullAccess**\n",
    "1. Some hands-on experience using [Amazon SageMaker](https://aws.amazon.com/sagemaker/).\n",
    "1. To use this algorithm successfully, ensure that:\n",
    "    1. Either your IAM role has these three permissions and you have authority to make AWS Marketplace subscriptions in the AWS account used: \n",
    "        1. **aws-marketplace:ViewSubscriptions**\n",
    "        1. **aws-marketplace:Unsubscribe**\n",
    "        1. **aws-marketplace:Subscribe**  \n",
    "    2. or your AWS account has a subscription to [NannyML MCBPE Algorithm](https://aws.amazon.com/marketplace/pp/prodview-???). \n",
    "\n",
    "## Contents\n",
    "1. [Subscribe to the algorithm](#1.-Subscribe-to-the-algorithm)\n",
    "1. [Prepare dataset](#2.-Prepare-dataset)\n",
    "\t1. [Dataset format expected by the algorithm](#A.-Dataset-format-expected-by-the-algorithm)\n",
    "\t1. [Configure and visualize reference dataset](#B.-Configure-and-visualize-reference-dataset)\n",
    "\t1. [Upload datasets to Amazon S3](#C.-Upload-datasets-to-Amazon-S3)\n",
    "1. [Train the machine learning algorithm](#3:-Train-the-machine-learning-algorithm)\n",
    "\t1. [Set up environment](#3.1-Set-up-environment)\n",
    "\t1. [Train a model](#3.2-Train-the-algorithm)\n",
    "1. [Deploy model](#4:-Deploy-model)\n",
    "1. [Perform Batch Inference](#5.-Perform-Batch-Inference)\n",
    "1. [Clean-up](#6.-Clean-up)\n",
    "\t1. [Delete the model](#A.-Delete-the-model)\n",
    "\t1. [Unsubscribe to the listing (optional)](#B.-Unsubscribe-to-the-listing-(optional))\n",
    "\n",
    "\n",
    "## Usage instructions\n",
    "You can run this notebook one cell at a time (By using Shift+Enter for running a cell)."
   ]
  },
  {
   "cell_type": "markdown",
   "metadata": {},
   "source": [
    "## 1. Subscribe to the algorithm"
   ]
  },
  {
   "cell_type": "markdown",
   "metadata": {},
   "source": [
    "To subscribe to the algorithm:\n",
    "1. Open the algorithm listing page [Model Performance Estimation - NannyML](https://aws.amazon.com/marketplace/pp/prodview-uotyt66szg34o)\n",
    "1. On the AWS Marketplace listing,  click on **Continue to subscribe** button.\n",
    "1. On the **Subscribe to this software** page, review and click on **\"Accept Offer\"** if you agree with EULA, pricing, and support terms. \n",
    "1. Once you click on **Continue to configuration button** and then choose a **region**, you will see a **Product Arn**. This is the algorithm ARN that you need to specify while training a custom ML model. Copy the ARN corresponding to your region and specify the same in the following cell.\n",
    "\n",
    "<font color='red'>Directly copy your assigned ARN code below:<font>"
   ]
  },
  {
   "cell_type": "code",
   "execution_count": 1,
   "metadata": {
    "tags": []
   },
   "outputs": [],
   "source": [
    "# algo_arn = \"<Customer to specify algorithm ARN corresponding to their AWS region>\"\n",
    "with open('arn.txt', 'r') as file:\n",
    "    algo_arn = file.read().rstrip()\n",
    "# algo_arn"
   ]
  },
  {
   "cell_type": "markdown",
   "metadata": {},
   "source": [
    "## 2. Prepare dataset"
   ]
  },
  {
   "cell_type": "code",
   "execution_count": 2,
   "metadata": {
    "tags": []
   },
   "outputs": [
    {
     "name": "stderr",
     "output_type": "stream",
     "text": [
      "/home/ec2-user/anaconda3/envs/python3/lib/python3.10/site-packages/pandas/core/computation/expressions.py:21: UserWarning: Pandas requires version '2.8.0' or newer of 'numexpr' (version '2.7.3' currently installed).\n",
      "  from pandas.core.computation.check import NUMEXPR_INSTALLED\n"
     ]
    },
    {
     "name": "stdout",
     "output_type": "stream",
     "text": [
      "sagemaker.config INFO - Not applying SDK defaults from location: /etc/xdg/sagemaker/config.yaml\n",
      "sagemaker.config INFO - Not applying SDK defaults from location: /home/ec2-user/.config/sagemaker/config.yaml\n"
     ]
    }
   ],
   "source": [
    "import sagemaker as sage\n",
    "from sagemaker import get_execution_role\n",
    "import pandas as pd\n",
    "import json"
   ]
  },
  {
   "cell_type": "markdown",
   "metadata": {},
   "source": [
    "### A. Dataset format expected by the algorithm"
   ]
  },
  {
   "cell_type": "markdown",
   "metadata": {},
   "source": [
    "To fully demonstrate the capabilities of NannyML's performance estimation we will provide code for all 3 supported machine learning problem types.\n",
    "\n",
    "- For Binary Classification we are going to use [NannyML's synthetic car loan dataset](https://nannyml.readthedocs.io/en/stable/datasets/binary_car_loan.html).\n",
    "- For Multiclass Classification, when it becomes available, we are going to use [NannyML's synthetic multiclass creadit card assignment dataset](https://nannyml.readthedocs.io/en/stable/datasets/multiclass.html).\n",
    "\n",
    "\n",
    "You can find some information about dataset format in **Usage Information** section of [NannyML MCBPE Algorithm](https://aws.amazon.com/marketplace/pp/prodview-???).\n",
    "<br>\n",
    "More detailed information can be found in [NannyML's Data Requirements Documentation](https://nannyml.readthedocs.io/en/stable/tutorials/data_requirements.html).\n",
    "\n",
    "<font color='red'>Edit code below as appropriate for the Machine Learning problem type you are interested in:<font>"
   ]
  },
  {
   "cell_type": "code",
   "execution_count": 3,
   "metadata": {
    "tags": []
   },
   "outputs": [],
   "source": [
    "machine_learning_problem_type = \"Binary Classification\"\n",
    "# machine_learning_problem_type = \"Multiclass Classification\""
   ]
  },
  {
   "cell_type": "markdown",
   "metadata": {},
   "source": [
    "### B. Configure and visualize reference dataset"
   ]
  },
  {
   "cell_type": "code",
   "execution_count": 4,
   "metadata": {
    "tags": []
   },
   "outputs": [
    {
     "data": {
      "text/html": [
       "<div>\n",
       "<style scoped>\n",
       "    .dataframe tbody tr th:only-of-type {\n",
       "        vertical-align: middle;\n",
       "    }\n",
       "\n",
       "    .dataframe tbody tr th {\n",
       "        vertical-align: top;\n",
       "    }\n",
       "\n",
       "    .dataframe thead th {\n",
       "        text-align: right;\n",
       "    }\n",
       "</style>\n",
       "<table border=\"1\" class=\"dataframe\">\n",
       "  <thead>\n",
       "    <tr style=\"text-align: right;\">\n",
       "      <th></th>\n",
       "      <th>car_value</th>\n",
       "      <th>salary_range</th>\n",
       "      <th>debt_to_income_ratio</th>\n",
       "      <th>loan_length</th>\n",
       "      <th>repaid_loan_on_prev_car</th>\n",
       "      <th>size_of_downpayment</th>\n",
       "      <th>driver_tenure</th>\n",
       "      <th>repaid</th>\n",
       "      <th>timestamp</th>\n",
       "      <th>y_pred_proba</th>\n",
       "      <th>y_pred</th>\n",
       "    </tr>\n",
       "  </thead>\n",
       "  <tbody>\n",
       "    <tr>\n",
       "      <th>0</th>\n",
       "      <td>39811.0</td>\n",
       "      <td>40K - 60K €</td>\n",
       "      <td>0.632950</td>\n",
       "      <td>19.0</td>\n",
       "      <td>False</td>\n",
       "      <td>40%</td>\n",
       "      <td>0.212653</td>\n",
       "      <td>1.0</td>\n",
       "      <td>2018-01-01 00:00:00.000</td>\n",
       "      <td>0.99</td>\n",
       "      <td>1</td>\n",
       "    </tr>\n",
       "    <tr>\n",
       "      <th>1</th>\n",
       "      <td>12679.0</td>\n",
       "      <td>40K - 60K €</td>\n",
       "      <td>0.718627</td>\n",
       "      <td>7.0</td>\n",
       "      <td>True</td>\n",
       "      <td>10%</td>\n",
       "      <td>4.927549</td>\n",
       "      <td>0.0</td>\n",
       "      <td>2018-01-01 00:08:43.152</td>\n",
       "      <td>0.07</td>\n",
       "      <td>0</td>\n",
       "    </tr>\n",
       "    <tr>\n",
       "      <th>2</th>\n",
       "      <td>19847.0</td>\n",
       "      <td>40K - 60K €</td>\n",
       "      <td>0.721724</td>\n",
       "      <td>17.0</td>\n",
       "      <td>False</td>\n",
       "      <td>0%</td>\n",
       "      <td>0.520817</td>\n",
       "      <td>1.0</td>\n",
       "      <td>2018-01-01 00:17:26.304</td>\n",
       "      <td>1.00</td>\n",
       "      <td>1</td>\n",
       "    </tr>\n",
       "    <tr>\n",
       "      <th>3</th>\n",
       "      <td>22652.0</td>\n",
       "      <td>20K - 20K €</td>\n",
       "      <td>0.705992</td>\n",
       "      <td>16.0</td>\n",
       "      <td>False</td>\n",
       "      <td>10%</td>\n",
       "      <td>0.453649</td>\n",
       "      <td>1.0</td>\n",
       "      <td>2018-01-01 00:26:09.456</td>\n",
       "      <td>0.98</td>\n",
       "      <td>1</td>\n",
       "    </tr>\n",
       "    <tr>\n",
       "      <th>4</th>\n",
       "      <td>21268.0</td>\n",
       "      <td>60K+ €</td>\n",
       "      <td>0.671888</td>\n",
       "      <td>21.0</td>\n",
       "      <td>True</td>\n",
       "      <td>30%</td>\n",
       "      <td>5.695263</td>\n",
       "      <td>1.0</td>\n",
       "      <td>2018-01-01 00:34:52.608</td>\n",
       "      <td>0.99</td>\n",
       "      <td>1</td>\n",
       "    </tr>\n",
       "  </tbody>\n",
       "</table>\n",
       "</div>"
      ],
      "text/plain": [
       "   car_value salary_range  debt_to_income_ratio  loan_length  \\\n",
       "0    39811.0  40K - 60K €              0.632950         19.0   \n",
       "1    12679.0  40K - 60K €              0.718627          7.0   \n",
       "2    19847.0  40K - 60K €              0.721724         17.0   \n",
       "3    22652.0  20K - 20K €              0.705992         16.0   \n",
       "4    21268.0       60K+ €              0.671888         21.0   \n",
       "\n",
       "   repaid_loan_on_prev_car size_of_downpayment  driver_tenure  repaid  \\\n",
       "0                    False                 40%       0.212653     1.0   \n",
       "1                     True                 10%       4.927549     0.0   \n",
       "2                    False                  0%       0.520817     1.0   \n",
       "3                    False                 10%       0.453649     1.0   \n",
       "4                     True                 30%       5.695263     1.0   \n",
       "\n",
       "                 timestamp  y_pred_proba  y_pred  \n",
       "0  2018-01-01 00:00:00.000          0.99       1  \n",
       "1  2018-01-01 00:08:43.152          0.07       0  \n",
       "2  2018-01-01 00:17:26.304          1.00       1  \n",
       "3  2018-01-01 00:26:09.456          0.98       1  \n",
       "4  2018-01-01 00:34:52.608          0.99       1  "
      ]
     },
     "execution_count": 4,
     "metadata": {},
     "output_type": "execute_result"
    }
   ],
   "source": [
    "if machine_learning_problem_type == \"Binary Classification\":\n",
    "    reference_dataset = \"data/bc_reference.csv\"\n",
    "# commented out until support is added to the algorithm.\n",
    "# elif machine_learning_problem_type == \"Multiclass Classification\":\n",
    "#     reference_dataset = \"data/mc_reference.csv\"\n",
    "else:\n",
    "    raise ValueError(\"Unsupported Machine Learning Problem Type.\")\n",
    "\n",
    "# Show selected dataset\n",
    "pd.read_csv(reference_dataset).head()"
   ]
  },
  {
   "cell_type": "markdown",
   "metadata": {},
   "source": [
    "### C. Upload datasets to Amazon S3"
   ]
  },
  {
   "cell_type": "code",
   "execution_count": 5,
   "metadata": {
    "tags": []
   },
   "outputs": [
    {
     "name": "stdout",
     "output_type": "stream",
     "text": [
      "sagemaker.config INFO - Not applying SDK defaults from location: /etc/xdg/sagemaker/config.yaml\n",
      "sagemaker.config INFO - Not applying SDK defaults from location: /home/ec2-user/.config/sagemaker/config.yaml\n"
     ]
    }
   ],
   "source": [
    "sagemaker_session = sage.Session()\n",
    "bucket = sagemaker_session.default_bucket()\n",
    "# bucket"
   ]
  },
  {
   "cell_type": "code",
   "execution_count": 6,
   "metadata": {
    "tags": []
   },
   "outputs": [],
   "source": [
    "demo_prefix = \"doc-notebook-demo\""
   ]
  },
  {
   "cell_type": "code",
   "execution_count": 7,
   "metadata": {
    "tags": []
   },
   "outputs": [],
   "source": [
    "reference_data = sagemaker_session.upload_data(\n",
    "    reference_dataset, bucket=bucket, key_prefix=demo_prefix\n",
    ")"
   ]
  },
  {
   "cell_type": "markdown",
   "metadata": {},
   "source": [
    "## 3: Train the machine learning algorithm"
   ]
  },
  {
   "cell_type": "markdown",
   "metadata": {},
   "source": [
    "Now that dataset is available in an accessible Amazon S3 bucket, we are ready to train a machine learning model. "
   ]
  },
  {
   "cell_type": "markdown",
   "metadata": {},
   "source": [
    "### 3.1 Set up environment"
   ]
  },
  {
   "cell_type": "code",
   "execution_count": 8,
   "metadata": {
    "tags": []
   },
   "outputs": [
    {
     "name": "stdout",
     "output_type": "stream",
     "text": [
      "sagemaker.config INFO - Not applying SDK defaults from location: /etc/xdg/sagemaker/config.yaml\n",
      "sagemaker.config INFO - Not applying SDK defaults from location: /home/ec2-user/.config/sagemaker/config.yaml\n"
     ]
    }
   ],
   "source": [
    "role = get_execution_role()"
   ]
  },
  {
   "cell_type": "code",
   "execution_count": 9,
   "metadata": {
    "tags": []
   },
   "outputs": [],
   "source": [
    "output_location = f\"s3://{bucket}/{demo_prefix}/output\"\n",
    "# output_location"
   ]
  },
  {
   "cell_type": "markdown",
   "metadata": {},
   "source": [
    "### 3.2 Train the algorithm"
   ]
  },
  {
   "cell_type": "markdown",
   "metadata": {},
   "source": [
    "In order to train the algorithm there are two groups of parameters that need to be specified, AWS Sagemaker parameters and NannyML MCBPE parameters. You can also find more information about dataset format and AWS Sagemaker parameters in **Hyperparameters** section of [NannyML MCBPE Algorithm](https://aws.amazon.com/marketplace/pp/prodview-???).\n",
    "\n",
    "The NannyML Concept Shift detection parameters needing to be specified are:\n",
    "\n",
    "- **feature_column_names:** A list with the names of the columns used as inputs from the model that\n",
    "    is evaluated.\n",
    "- **y_pred_proba:** The name of the column in the reference data that\n",
    "contains the predicted probabilities.\n",
    "- **y_pred:** The name of the column in the reference data that\n",
    "contains the predicted classes.\n",
    "- **y_true:** The name of the column in the reference data that\n",
    "contains the true classes.\n",
    "- **timestamp_column_name (Optional):** The name of the column in the reference data that\n",
    "contains timestamps.\n",
    "- **metrics:** A list of metrics for which to estimate impact of concept shift. Available options are\n",
    "`accuracy`, `precision`, `recall`, `specificity`, `f1`, `roc_auc` and `magnitude`. Magnitude is a custom concept shift measure ranging between 0, for no concept shift, to 1, theoritical maximum concept shift.\n",
    "- **chunk_size (Optional):** The number of observations in each chunk of data\n",
    "used. Only one chunking argument needs to be provided. For more information about\n",
    "[chunking](https://nannyml.readthedocs.io/en/stable/glossary.html#term-Data-Chunk)\n",
    "configurations check out the [chunking tutorial](https://nannyml.readthedocs.io/en/stable/tutorials/chunking.html#chunking).\n",
    "- **chunk_number (Optional):** The number of chunks to be created out of data provided for each\n",
    "[period](https://nannyml.readthedocs.io/en/stable/tutorials/data_requirements.html#data-periods).\n",
    "- **chunk_period (Optional):** The time period based on which we aggregate the provided data in\n",
    "order to create chunks.\n",
    "- **chunker (Optional):** A NannyML [Chunker object](https://nannyml.readthedocs.io/en/stable/nannyml/nannyml.chunk.html#nannyml.chunk.Chunker) that will handle the aggregation\n",
    "provided data in order to create chunks.\n",
    "- **calibration (Optional):** Determines which calibration approach will be applied to the model predictions.\n",
    "Defaults to 'lgbm', 'isotonic' is also available.\n",
    "- **calibrator (Optional):** A specific instance of a Calibrator to be applied to the model predictions.\n",
    "If not set NannyML will use the value of the ``calibration`` variable instead.\n",
    "- **problem_type:** A string indicating the type of problem being monitored. Currently only `\"classification_binary\"` problems are supported for Concept Shift.\n",
    "- **thresholds (Optional):** The thresholds used to calculate the alert flag. For more information about\n",
    "thresholds, check out the [thresholds tutorial](https://nannyml.readthedocs.io/en/stable/tutorials/thresholds.html#thresholds).\n",
    "- **normalize_confusion_matrix (Optional):** \n",
    "- **business_value_matrix (Optional):** A 2x2 matrix that specifies the value of each cell in the confusion matrix where the top left cell is the value of a true negative, the top right cell is the value of a false positive, the bottom left cell is the value of a false negative, and the bottom right cell is the value of a true positive.\n",
    "- **normalize_business_value (Optional):** How to normalize the business value. The normalization options are None which returns the total value per chunk and “per_prediction” which normalizes the confusion matrix over predictions.\n",
    "- **minimum_weight_denominator (Optional):** Minimum value for the denominator used for weighting calculations during multicalibration.\n",
    "- **hyperparameters (Optional):** A dictionary containing hyperparameter specification for the training of the\n",
    "*LGBMClassifier* density ratio estimation model.\n",
    "- **tune_hyperparameters:** A boolearn specifying whether hyperparameter tuning should be\n",
    "performed. False by default.\n",
    "- **hyperparameter_tuning_config (Optional):** A dictionary containing hyperparameter tuning specification for the hyperparameter tuning of the *LGBMClassifier* density ratio estimation model.\n",
    "\n",
    "\n",
    "The AWS Sagemaker parameters needing to be specified are:\n",
    "\n",
    "- **problem_type:** A string indicating the type of problem being monitored. Currently only`\"classification_binary\"` problems are supported for Concept Shift.\n",
    "- **data_filename:** A string with the file name that contains the training data.\n",
    "- **data_type:** The file format of the training data file. `csv` is the recomended option.\n",
    "- **parameters:** Algorithm parameters dict, encoded as JSON string. This parameters are passed as kwargs to the corresponding algorithm depending the problem type.\n",
    "\n",
    "<font color='red'>Edit code below as appropriate for your use case. Note that you need to know the list of model `feature_column_names`:<font>"
   ]
  },
  {
   "cell_type": "code",
   "execution_count": 10,
   "metadata": {
    "tags": []
   },
   "outputs": [],
   "source": [
    "# Define hyperparameters\n",
    "if machine_learning_problem_type == \"Binary Classification\":\n",
    "    nannyml_parameters = {\n",
    "        \"feature_column_names\": [\n",
    "            \"car_value\",\n",
    "            \"salary_range\",\n",
    "            \"debt_to_income_ratio\",\n",
    "            \"loan_length\",\n",
    "            \"repaid_loan_on_prev_car\",\n",
    "            \"size_of_downpayment\",\n",
    "            \"driver_tenure\",\n",
    "        ],\n",
    "        \"y_pred\": \"y_pred\",\n",
    "        \"y_pred_proba\": \"y_pred_proba\",\n",
    "        \"y_true\": \"repaid\",\n",
    "        \"timestamp_column_name\": \"timestamp\",\n",
    "        \"metrics\": [\"f1\"],\n",
    "        \"chunk_size\": 5000,\n",
    "        \"problem_type\": \"classification_binary\",\n",
    "    }\n",
    "    # json.dumps needed due to sagemaker specifications\n",
    "    sagemaker_hyperparameters = {\n",
    "        \"data_filename\": reference_dataset.split(\"/\")[-1],\n",
    "        \"data_type\": \"csv\",\n",
    "        \"problem_type\": \"classification_binary\",\n",
    "        \"parameters\": json.dumps(nannyml_parameters),\n",
    "    }\n",
    "# commented out until support is added to the algorithm.\n",
    "# elif machine_learning_problem_type == \"Multiclass Classification\":\n",
    "#     nannyml_parameters = {\n",
    "#         \"feature_column_names\": [\n",
    "#             \"acq_channel\",\n",
    "#             \"app_behavioral_score\",\n",
    "#             \"requested_credit_limit\",\n",
    "#             \"app_channel\",\n",
    "#             \"credit_bureau_score\",\n",
    "#             \"stated_income\",\n",
    "#             \"is_customer\",\n",
    "#         ],\n",
    "#         \"y_pred\": \"y_pred\",\n",
    "#         \"y_pred_proba\": {\n",
    "#             \"prepaid_card\": \"y_pred_proba_prepaid_card\",\n",
    "#             \"highstreet_card\": \"y_pred_proba_highstreet_card\",\n",
    "#             \"upmarket_card\": \"y_pred_proba_upmarket_card\"\n",
    "#         },\n",
    "#         \"y_true\": \"y_true\",\n",
    "#         \"timestamp_column_name\": \"timestamp\",\n",
    "#         \"metrics\": [\"roc_auc\"],\n",
    "#         \"chunk_size\": 5000,\n",
    "#         \"problem_type\": \"classification_multiclass\",\n",
    "#     }\n",
    "#     # json.dumps needed due to sagemaker specifications\n",
    "#     sagemaker_hyperparameters = {\n",
    "#         \"data_filename\": reference_dataset.split(\"/\")[-1],\n",
    "#         \"data_type\": \"csv\",\n",
    "#         \"problem_type\": \"classification_multiclass\",\n",
    "#         \"parameters\": json.dumps(nannyml_parameters),\n",
    "#     }\n",
    "else:\n",
    "    raise ValueError(\"Unsupported Machine Learning Problem Type.\")"
   ]
  },
  {
   "cell_type": "markdown",
   "metadata": {},
   "source": [
    "For information on creating an `Estimator` object, see [documentation](https://sagemaker.readthedocs.io/en/stable/api/training/estimators.html)"
   ]
  },
  {
   "cell_type": "code",
   "execution_count": 11,
   "metadata": {
    "tags": []
   },
   "outputs": [],
   "source": [
    "# Create an estimator object for running a training job\n",
    "estimator = sage.algorithm.AlgorithmEstimator(\n",
    "    algorithm_arn=algo_arn,\n",
    "    base_job_name='nml-mcbpe-algo',\n",
    "    role=role,\n",
    "    instance_count=1,\n",
    "    instance_type='ml.m5.large',\n",
    "    input_mode=\"File\",\n",
    "    output_path=output_location,\n",
    "    sagemaker_session=sagemaker_session,\n",
    "    hyperparameters=sagemaker_hyperparameters,\n",
    ")"
   ]
  },
  {
   "cell_type": "code",
   "execution_count": 12,
   "metadata": {
    "tags": []
   },
   "outputs": [
    {
     "name": "stderr",
     "output_type": "stream",
     "text": [
      "INFO:sagemaker:Creating training-job with name: nml-mcbpe-algo-2023-11-23-11-30-13-835\n"
     ]
    },
    {
     "name": "stdout",
     "output_type": "stream",
     "text": [
      "2023-11-23 11:30:14 Starting - Starting the training job...\n",
      "2023-11-23 11:30:32 Starting - Preparing the instances for training......\n",
      "2023-11-23 11:31:29 Downloading - Downloading input data...\n",
      "2023-11-23 11:31:54 Training - Downloading the training image.....\n",
      "2023-11-23 11:33:10 Uploading - Uploading generated training model\u001b[34mINFO:nannyml:Logger object created.\u001b[0m\n",
      "\u001b[34mINFO:nannyml:Hyperparameters read.\u001b[0m\n",
      "\u001b[34mINFO:nannyml:MCBPE Estimator Instantiated.\u001b[0m\n",
      "\u001b[34mINFO:nannyml:Data loaded.\u001b[0m\n",
      "\u001b[34mINFO:nannyml.base:fitting nannyml_premium.performance_estimation.confidence_based.mcbpe.MCBPE\u001b[0m\n",
      "\u001b[34mDEBUG:nannyml.usage_logging:found NML_DISABLE_USAGE_LOGGING key in environment variables. Usage event UsageEvent.MCBPE_ESTIMATOR_RUN not logged.\u001b[0m\n",
      "\u001b[34mDEBUG:nannyml.usage_logging:found NML_DISABLE_USAGE_LOGGING key in environment variables. Usage event UsageEvent.MCBPE_ESTIMATOR_FIT not logged.\u001b[0m\n",
      "\u001b[34mINFO:nannyml:Estimator fit.\u001b[0m\n",
      "\u001b[34mINFO:nannyml.io.store.base:storing object \"nannyml_premium.performance_estimation.confidence_based.mcbpe.MCBPE\" to store \"nannyml.io.store.file_store.FilesystemStore\"\u001b[0m\n",
      "\u001b[34mDEBUG:fsspec.local:open file: /opt/ml/model/estimator.pkl\u001b[0m\n",
      "\u001b[34mDEBUG:nannyml.io.store.serializers:serializing object nannyml_premium.performance_estimation.confidence_based.mcbpe.MCBPE\u001b[0m\n",
      "\u001b[34mINFO:nannyml:Estimator stored.\u001b[0m\n",
      "\n",
      "2023-11-23 11:33:26 Completed - Training job completed\n",
      "Training seconds: 117\n",
      "Billable seconds: 117\n"
     ]
    }
   ],
   "source": [
    "# Run the training job.\n",
    "estimator.fit(\n",
    "    {'training': reference_data}\n",
    ")"
   ]
  },
  {
   "cell_type": "markdown",
   "metadata": {},
   "source": [
    "See this [blog-post](https://aws.amazon.com/blogs/machine-learning/easily-monitor-and-visualize-metrics-while-training-models-on-amazon-sagemaker/) for more information how to visualize metrics during the process. You can also open the training job from [Amazon SageMaker console](https://console.aws.amazon.com/sagemaker/home?#/jobs/) and monitor the metrics/logs in **Monitor** section."
   ]
  },
  {
   "cell_type": "markdown",
   "metadata": {},
   "source": [
    "## 4: Deploy model"
   ]
  },
  {
   "cell_type": "markdown",
   "metadata": {},
   "source": [
    "**NannyML's Performance Estimation is not designed for real time inference, therefore it is not recommended to use it in this way.**\n",
    "\n",
    "For this reason we are not showcasing the real-time inference feature of Sagemaker Algorithm."
   ]
  },
  {
   "cell_type": "markdown",
   "metadata": {},
   "source": [
    "## 5. Perform Batch Inference"
   ]
  },
  {
   "cell_type": "markdown",
   "metadata": {},
   "source": [
    "In this section, you will perform batch inference using multiple input payloads together."
   ]
  },
  {
   "cell_type": "code",
   "execution_count": 13,
   "metadata": {
    "tags": []
   },
   "outputs": [],
   "source": [
    "# upload the batch-transform job input files to S3\n",
    "\n",
    "if machine_learning_problem_type == \"Binary Classification\":\n",
    "    inference_dataset = \"data/bc_analysis.csv\"\n",
    "# elif machine_learning_problem_type == \"Multiclass Classification\":\n",
    "#     inference_dataset = \"data/mc_analysis.csv\"\n",
    "else:\n",
    "    raise ValueError(\"Unsupported Machine Learning Problem Type.\")\n",
    "\n",
    "inference_data = sagemaker_session.upload_data(inference_dataset, bucket=bucket, key_prefix=demo_prefix)\n",
    "# print(\"Transform input uploaded to \" + inference_data)"
   ]
  },
  {
   "cell_type": "code",
   "execution_count": 14,
   "metadata": {
    "tags": []
   },
   "outputs": [
    {
     "name": "stderr",
     "output_type": "stream",
     "text": [
      "INFO:sagemaker:Creating model package with name: nannyml-mcbpe-algorithm-20231123091829-2023-11-23-11-33-57-129\n"
     ]
    },
    {
     "name": "stdout",
     "output_type": "stream",
     "text": [
      "........."
     ]
    },
    {
     "name": "stderr",
     "output_type": "stream",
     "text": [
      "INFO:sagemaker:Creating model with name: nannyml-mcbpe-algorithm-20231123091829--2023-11-23-11-34-42-621\n"
     ]
    },
    {
     "name": "stdout",
     "output_type": "stream",
     "text": [
      "\n"
     ]
    },
    {
     "name": "stderr",
     "output_type": "stream",
     "text": [
      "INFO:sagemaker:Creating transform job with name: nml-mcbpe-algo-2023-11-23-11-34-43-409\n"
     ]
    },
    {
     "name": "stdout",
     "output_type": "stream",
     "text": [
      "...............................\u001b[34m * Serving Flask app 'inference_server'\n",
      " * Debug mode: off\u001b[0m\n",
      "\u001b[34m#033[31m#033[1mWARNING: This is a development server. Do not use it in a production deployment. Use a production WSGI server instead.#033[0m\n",
      " * Running on all addresses (0.0.0.0)\n",
      " * Running on http://127.0.0.1:8080\n",
      " * Running on http://169.254.255.131:8080\u001b[0m\n",
      "\u001b[34m#033[33mPress CTRL+C to quit#033[0m\u001b[0m\n",
      "\u001b[35m * Serving Flask app 'inference_server'\n",
      " * Debug mode: off\u001b[0m\n",
      "\u001b[35m#033[31m#033[1mWARNING: This is a development server. Do not use it in a production deployment. Use a production WSGI server instead.#033[0m\n",
      " * Running on all addresses (0.0.0.0)\n",
      " * Running on http://127.0.0.1:8080\n",
      " * Running on http://169.254.255.131:8080\u001b[0m\n",
      "\u001b[35m#033[33mPress CTRL+C to quit#033[0m\u001b[0m\n",
      "\u001b[34m169.254.255.130 - - [23/Nov/2023 11:39:58] \"GET /ping HTTP/1.1\" 200 -\u001b[0m\n",
      "\u001b[34m169.254.255.130 - - [23/Nov/2023 11:39:58] \"#033[33mGET /execution-parameters HTTP/1.1#033[0m\" 404 -\u001b[0m\n",
      "\u001b[35m169.254.255.130 - - [23/Nov/2023 11:39:58] \"GET /ping HTTP/1.1\" 200 -\u001b[0m\n",
      "\u001b[35m169.254.255.130 - - [23/Nov/2023 11:39:58] \"#033[33mGET /execution-parameters HTTP/1.1#033[0m\" 404 -\u001b[0m\n",
      "\u001b[32m2023-11-23T11:39:58.167:[sagemaker logs]: MaxConcurrentTransforms=1, MaxPayloadInMB=6, BatchStrategy=MULTI_RECORD\u001b[0m\n",
      "\u001b[34mReceived POST invocation request.\u001b[0m\n",
      "\u001b[35mReceived POST invocation request.\u001b[0m\n",
      "\u001b[34mfound request data\u001b[0m\n",
      "\u001b[34mcreated string io object\u001b[0m\n",
      "\u001b[34mset buffer to 0\u001b[0m\n",
      "\u001b[34mCreated pandas object.\u001b[0m\n",
      "\u001b[34mEstimation invoked with 50000 rows\u001b[0m\n",
      "\u001b[34mEstimation invoked with columns: ['car_value', 'salary_range', 'debt_to_income_ratio', 'loan_length', 'repaid_loan_on_prev_car', 'size_of_downpayment', 'driver_tenure', 'timestamp', 'y_pred_proba', 'y_pred']\u001b[0m\n",
      "\u001b[35mfound request data\u001b[0m\n",
      "\u001b[35mcreated string io object\u001b[0m\n",
      "\u001b[35mset buffer to 0\u001b[0m\n",
      "\u001b[35mCreated pandas object.\u001b[0m\n",
      "\u001b[35mEstimation invoked with 50000 rows\u001b[0m\n",
      "\u001b[35mEstimation invoked with columns: ['car_value', 'salary_range', 'debt_to_income_ratio', 'loan_length', 'repaid_loan_on_prev_car', 'size_of_downpayment', 'driver_tenure', 'timestamp', 'y_pred_proba', 'y_pred']\u001b[0m\n",
      "\n",
      "\u001b[34m * Serving Flask app 'inference_server'\n",
      " * Debug mode: off\u001b[0m\n",
      "\u001b[34m#033[31m#033[1mWARNING: This is a development server. Do not use it in a production deployment. Use a production WSGI server instead.#033[0m\n",
      " * Running on all addresses (0.0.0.0)\n",
      " * Running on http://127.0.0.1:8080\n",
      " * Running on http://169.254.255.131:8080\u001b[0m\n",
      "\u001b[34m#033[33mPress CTRL+C to quit#033[0m\u001b[0m\n",
      "\u001b[35m * Serving Flask app 'inference_server'\n",
      " * Debug mode: off\u001b[0m\n",
      "\u001b[35m#033[31m#033[1mWARNING: This is a development server. Do not use it in a production deployment. Use a production WSGI server instead.#033[0m\n",
      " * Running on all addresses (0.0.0.0)\n",
      " * Running on http://127.0.0.1:8080\n",
      " * Running on http://169.254.255.131:8080\u001b[0m\n",
      "\u001b[35m#033[33mPress CTRL+C to quit#033[0m\u001b[0m\n",
      "\u001b[34m169.254.255.130 - - [23/Nov/2023 11:39:58] \"GET /ping HTTP/1.1\" 200 -\u001b[0m\n",
      "\u001b[34m169.254.255.130 - - [23/Nov/2023 11:39:58] \"#033[33mGET /execution-parameters HTTP/1.1#033[0m\" 404 -\u001b[0m\n",
      "\u001b[35m169.254.255.130 - - [23/Nov/2023 11:39:58] \"GET /ping HTTP/1.1\" 200 -\u001b[0m\n",
      "\u001b[35m169.254.255.130 - - [23/Nov/2023 11:39:58] \"#033[33mGET /execution-parameters HTTP/1.1#033[0m\" 404 -\u001b[0m\n",
      "\u001b[32m2023-11-23T11:39:58.167:[sagemaker logs]: MaxConcurrentTransforms=1, MaxPayloadInMB=6, BatchStrategy=MULTI_RECORD\u001b[0m\n",
      "\u001b[34mReceived POST invocation request.\u001b[0m\n",
      "\u001b[35mReceived POST invocation request.\u001b[0m\n",
      "\u001b[34mfound request data\u001b[0m\n",
      "\u001b[34mcreated string io object\u001b[0m\n",
      "\u001b[34mset buffer to 0\u001b[0m\n",
      "\u001b[34mCreated pandas object.\u001b[0m\n",
      "\u001b[34mEstimation invoked with 50000 rows\u001b[0m\n",
      "\u001b[34mEstimation invoked with columns: ['car_value', 'salary_range', 'debt_to_income_ratio', 'loan_length', 'repaid_loan_on_prev_car', 'size_of_downpayment', 'driver_tenure', 'timestamp', 'y_pred_proba', 'y_pred']\u001b[0m\n",
      "\u001b[35mfound request data\u001b[0m\n",
      "\u001b[35mcreated string io object\u001b[0m\n",
      "\u001b[35mset buffer to 0\u001b[0m\n",
      "\u001b[35mCreated pandas object.\u001b[0m\n",
      "\u001b[35mEstimation invoked with 50000 rows\u001b[0m\n",
      "\u001b[35mEstimation invoked with columns: ['car_value', 'salary_range', 'debt_to_income_ratio', 'loan_length', 'repaid_loan_on_prev_car', 'size_of_downpayment', 'driver_tenure', 'timestamp', 'y_pred_proba', 'y_pred']\u001b[0m\n",
      "\u001b[34m169.254.255.130 - - [23/Nov/2023 11:40:07] \"POST /invocations HTTP/1.1\" 200 -\u001b[0m\n",
      "\u001b[35m169.254.255.130 - - [23/Nov/2023 11:40:07] \"POST /invocations HTTP/1.1\" 200 -\u001b[0m\n"
     ]
    }
   ],
   "source": [
    "# Run the batch-transform job\n",
    "transformer = estimator.transformer(\n",
    "    instance_count=1,\n",
    "    instance_type=\"ml.m5.large\",\n",
    "    output_path=output_location\n",
    ")\n",
    "transformer.transform(inference_data, content_type=\"text/csv\")\n",
    "transformer.wait()"
   ]
  },
  {
   "cell_type": "markdown",
   "metadata": {},
   "source": [
    "**View Results of Performance Estimation**"
   ]
  },
  {
   "cell_type": "code",
   "execution_count": 15,
   "metadata": {
    "tags": []
   },
   "outputs": [
    {
     "name": "stderr",
     "output_type": "stream",
     "text": [
      "/home/ec2-user/anaconda3/envs/python3/lib/python3.10/site-packages/fsspec/registry.py:272: UserWarning: Your installed version of s3fs is very old and known to cause\n",
      "severe performance issues, see also https://github.com/dask/dask/issues/10276\n",
      "\n",
      "To fix, you should specify a lower version bound on s3fs, or\n",
      "update the current installation.\n",
      "\n",
      "  warnings.warn(s3_msg)\n",
      "INFO:botocore.credentials:Found credentials from IAM Role: BaseNotebookInstanceEc2InstanceRole\n"
     ]
    },
    {
     "data": {
      "text/html": [
       "<div>\n",
       "<style scoped>\n",
       "    .dataframe tbody tr th:only-of-type {\n",
       "        vertical-align: middle;\n",
       "    }\n",
       "\n",
       "    .dataframe tbody tr th {\n",
       "        vertical-align: top;\n",
       "    }\n",
       "\n",
       "    .dataframe thead tr th {\n",
       "        text-align: left;\n",
       "    }\n",
       "</style>\n",
       "<table border=\"1\" class=\"dataframe\">\n",
       "  <thead>\n",
       "    <tr>\n",
       "      <th></th>\n",
       "      <th colspan=\"7\" halign=\"left\">chunk</th>\n",
       "      <th colspan=\"8\" halign=\"left\">f1</th>\n",
       "    </tr>\n",
       "    <tr>\n",
       "      <th></th>\n",
       "      <th>key</th>\n",
       "      <th>chunk_index</th>\n",
       "      <th>start_index</th>\n",
       "      <th>end_index</th>\n",
       "      <th>start_date</th>\n",
       "      <th>end_date</th>\n",
       "      <th>period</th>\n",
       "      <th>value</th>\n",
       "      <th>realized</th>\n",
       "      <th>sampling_error</th>\n",
       "      <th>upper_confidence_boundary</th>\n",
       "      <th>lower_confidence_boundary</th>\n",
       "      <th>upper_threshold</th>\n",
       "      <th>lower_threshold</th>\n",
       "      <th>alert</th>\n",
       "    </tr>\n",
       "  </thead>\n",
       "  <tbody>\n",
       "    <tr>\n",
       "      <th>0</th>\n",
       "      <td>[0:4999]</td>\n",
       "      <td>0</td>\n",
       "      <td>0</td>\n",
       "      <td>4999</td>\n",
       "      <td>2018-01-01 00:00:00</td>\n",
       "      <td>2018-01-31 06:27:16.848</td>\n",
       "      <td>reference</td>\n",
       "      <td>0.942851</td>\n",
       "      <td>0.944707</td>\n",
       "      <td>0.00644</td>\n",
       "      <td>0.962170</td>\n",
       "      <td>0.923532</td>\n",
       "      <td>0.95085</td>\n",
       "      <td>0.93466</td>\n",
       "      <td>False</td>\n",
       "    </tr>\n",
       "    <tr>\n",
       "      <th>1</th>\n",
       "      <td>[5000:9999]</td>\n",
       "      <td>1</td>\n",
       "      <td>5000</td>\n",
       "      <td>9999</td>\n",
       "      <td>2018-01-31 06:36:00</td>\n",
       "      <td>2018-03-02 13:03:16.848</td>\n",
       "      <td>reference</td>\n",
       "      <td>0.940523</td>\n",
       "      <td>0.937564</td>\n",
       "      <td>0.00644</td>\n",
       "      <td>0.959842</td>\n",
       "      <td>0.921204</td>\n",
       "      <td>0.95085</td>\n",
       "      <td>0.93466</td>\n",
       "      <td>False</td>\n",
       "    </tr>\n",
       "    <tr>\n",
       "      <th>2</th>\n",
       "      <td>[10000:14999]</td>\n",
       "      <td>2</td>\n",
       "      <td>10000</td>\n",
       "      <td>14999</td>\n",
       "      <td>2018-03-02 13:12:00</td>\n",
       "      <td>2018-04-01 19:39:16.848</td>\n",
       "      <td>reference</td>\n",
       "      <td>0.943179</td>\n",
       "      <td>0.945973</td>\n",
       "      <td>0.00644</td>\n",
       "      <td>0.962498</td>\n",
       "      <td>0.923859</td>\n",
       "      <td>0.95085</td>\n",
       "      <td>0.93466</td>\n",
       "      <td>False</td>\n",
       "    </tr>\n",
       "    <tr>\n",
       "      <th>3</th>\n",
       "      <td>[15000:19999]</td>\n",
       "      <td>3</td>\n",
       "      <td>15000</td>\n",
       "      <td>19999</td>\n",
       "      <td>2018-04-01 19:48:00</td>\n",
       "      <td>2018-05-02 02:15:16.848</td>\n",
       "      <td>reference</td>\n",
       "      <td>0.942702</td>\n",
       "      <td>0.943212</td>\n",
       "      <td>0.00644</td>\n",
       "      <td>0.962021</td>\n",
       "      <td>0.923383</td>\n",
       "      <td>0.95085</td>\n",
       "      <td>0.93466</td>\n",
       "      <td>False</td>\n",
       "    </tr>\n",
       "    <tr>\n",
       "      <th>4</th>\n",
       "      <td>[20000:24999]</td>\n",
       "      <td>4</td>\n",
       "      <td>20000</td>\n",
       "      <td>24999</td>\n",
       "      <td>2018-05-02 02:24:00</td>\n",
       "      <td>2018-06-01 08:51:16.848</td>\n",
       "      <td>reference</td>\n",
       "      <td>0.942271</td>\n",
       "      <td>0.937989</td>\n",
       "      <td>0.00644</td>\n",
       "      <td>0.961591</td>\n",
       "      <td>0.922952</td>\n",
       "      <td>0.95085</td>\n",
       "      <td>0.93466</td>\n",
       "      <td>False</td>\n",
       "    </tr>\n",
       "    <tr>\n",
       "      <th>5</th>\n",
       "      <td>[25000:29999]</td>\n",
       "      <td>5</td>\n",
       "      <td>25000</td>\n",
       "      <td>29999</td>\n",
       "      <td>2018-06-01 09:00:00</td>\n",
       "      <td>2018-07-01 15:27:16.848</td>\n",
       "      <td>reference</td>\n",
       "      <td>0.942388</td>\n",
       "      <td>0.942581</td>\n",
       "      <td>0.00644</td>\n",
       "      <td>0.961708</td>\n",
       "      <td>0.923069</td>\n",
       "      <td>0.95085</td>\n",
       "      <td>0.93466</td>\n",
       "      <td>False</td>\n",
       "    </tr>\n",
       "    <tr>\n",
       "      <th>6</th>\n",
       "      <td>[30000:34999]</td>\n",
       "      <td>6</td>\n",
       "      <td>30000</td>\n",
       "      <td>34999</td>\n",
       "      <td>2018-07-01 15:36:00</td>\n",
       "      <td>2018-07-31 22:03:16.848</td>\n",
       "      <td>reference</td>\n",
       "      <td>0.940747</td>\n",
       "      <td>0.944140</td>\n",
       "      <td>0.00644</td>\n",
       "      <td>0.960066</td>\n",
       "      <td>0.921428</td>\n",
       "      <td>0.95085</td>\n",
       "      <td>0.93466</td>\n",
       "      <td>False</td>\n",
       "    </tr>\n",
       "    <tr>\n",
       "      <th>7</th>\n",
       "      <td>[35000:39999]</td>\n",
       "      <td>7</td>\n",
       "      <td>35000</td>\n",
       "      <td>39999</td>\n",
       "      <td>2018-07-31 22:12:00</td>\n",
       "      <td>2018-08-31 04:39:16.848</td>\n",
       "      <td>reference</td>\n",
       "      <td>0.944715</td>\n",
       "      <td>0.944612</td>\n",
       "      <td>0.00644</td>\n",
       "      <td>0.964035</td>\n",
       "      <td>0.925396</td>\n",
       "      <td>0.95085</td>\n",
       "      <td>0.93466</td>\n",
       "      <td>False</td>\n",
       "    </tr>\n",
       "    <tr>\n",
       "      <th>8</th>\n",
       "      <td>[40000:44999]</td>\n",
       "      <td>8</td>\n",
       "      <td>40000</td>\n",
       "      <td>44999</td>\n",
       "      <td>2018-08-31 04:48:00</td>\n",
       "      <td>2018-09-30 11:15:16.848</td>\n",
       "      <td>reference</td>\n",
       "      <td>0.944234</td>\n",
       "      <td>0.944523</td>\n",
       "      <td>0.00644</td>\n",
       "      <td>0.963553</td>\n",
       "      <td>0.924915</td>\n",
       "      <td>0.95085</td>\n",
       "      <td>0.93466</td>\n",
       "      <td>False</td>\n",
       "    </tr>\n",
       "    <tr>\n",
       "      <th>9</th>\n",
       "      <td>[45000:49999]</td>\n",
       "      <td>9</td>\n",
       "      <td>45000</td>\n",
       "      <td>49999</td>\n",
       "      <td>2018-09-30 11:24:00</td>\n",
       "      <td>2018-10-30 17:51:16.848</td>\n",
       "      <td>reference</td>\n",
       "      <td>0.943909</td>\n",
       "      <td>0.942249</td>\n",
       "      <td>0.00644</td>\n",
       "      <td>0.963228</td>\n",
       "      <td>0.924590</td>\n",
       "      <td>0.95085</td>\n",
       "      <td>0.93466</td>\n",
       "      <td>False</td>\n",
       "    </tr>\n",
       "    <tr>\n",
       "      <th>10</th>\n",
       "      <td>[0:4999]</td>\n",
       "      <td>0</td>\n",
       "      <td>0</td>\n",
       "      <td>4999</td>\n",
       "      <td>2018-10-30 18:00:00</td>\n",
       "      <td>2018-11-30 00:27:16.848</td>\n",
       "      <td>analysis</td>\n",
       "      <td>0.943218</td>\n",
       "      <td>NaN</td>\n",
       "      <td>0.00644</td>\n",
       "      <td>0.962537</td>\n",
       "      <td>0.923898</td>\n",
       "      <td>0.95085</td>\n",
       "      <td>0.93466</td>\n",
       "      <td>False</td>\n",
       "    </tr>\n",
       "    <tr>\n",
       "      <th>11</th>\n",
       "      <td>[5000:9999]</td>\n",
       "      <td>1</td>\n",
       "      <td>5000</td>\n",
       "      <td>9999</td>\n",
       "      <td>2018-11-30 00:36:00</td>\n",
       "      <td>2018-12-30 07:03:16.848</td>\n",
       "      <td>analysis</td>\n",
       "      <td>0.941106</td>\n",
       "      <td>NaN</td>\n",
       "      <td>0.00644</td>\n",
       "      <td>0.960425</td>\n",
       "      <td>0.921787</td>\n",
       "      <td>0.95085</td>\n",
       "      <td>0.93466</td>\n",
       "      <td>False</td>\n",
       "    </tr>\n",
       "    <tr>\n",
       "      <th>12</th>\n",
       "      <td>[10000:14999]</td>\n",
       "      <td>2</td>\n",
       "      <td>10000</td>\n",
       "      <td>14999</td>\n",
       "      <td>2018-12-30 07:12:00</td>\n",
       "      <td>2019-01-29 13:39:16.848</td>\n",
       "      <td>analysis</td>\n",
       "      <td>0.942974</td>\n",
       "      <td>NaN</td>\n",
       "      <td>0.00644</td>\n",
       "      <td>0.962293</td>\n",
       "      <td>0.923655</td>\n",
       "      <td>0.95085</td>\n",
       "      <td>0.93466</td>\n",
       "      <td>False</td>\n",
       "    </tr>\n",
       "    <tr>\n",
       "      <th>13</th>\n",
       "      <td>[15000:19999]</td>\n",
       "      <td>3</td>\n",
       "      <td>15000</td>\n",
       "      <td>19999</td>\n",
       "      <td>2019-01-29 13:48:00</td>\n",
       "      <td>2019-02-28 20:15:16.848</td>\n",
       "      <td>analysis</td>\n",
       "      <td>0.942331</td>\n",
       "      <td>NaN</td>\n",
       "      <td>0.00644</td>\n",
       "      <td>0.961650</td>\n",
       "      <td>0.923011</td>\n",
       "      <td>0.95085</td>\n",
       "      <td>0.93466</td>\n",
       "      <td>False</td>\n",
       "    </tr>\n",
       "    <tr>\n",
       "      <th>14</th>\n",
       "      <td>[20000:24999]</td>\n",
       "      <td>4</td>\n",
       "      <td>20000</td>\n",
       "      <td>24999</td>\n",
       "      <td>2019-02-28 20:24:00</td>\n",
       "      <td>2019-03-31 02:51:16.848</td>\n",
       "      <td>analysis</td>\n",
       "      <td>0.944021</td>\n",
       "      <td>NaN</td>\n",
       "      <td>0.00644</td>\n",
       "      <td>0.963340</td>\n",
       "      <td>0.924702</td>\n",
       "      <td>0.95085</td>\n",
       "      <td>0.93466</td>\n",
       "      <td>False</td>\n",
       "    </tr>\n",
       "    <tr>\n",
       "      <th>15</th>\n",
       "      <td>[25000:29999]</td>\n",
       "      <td>5</td>\n",
       "      <td>25000</td>\n",
       "      <td>29999</td>\n",
       "      <td>2019-03-31 03:00:00</td>\n",
       "      <td>2019-04-30 09:27:16.848</td>\n",
       "      <td>analysis</td>\n",
       "      <td>0.925582</td>\n",
       "      <td>NaN</td>\n",
       "      <td>0.00644</td>\n",
       "      <td>0.944901</td>\n",
       "      <td>0.906263</td>\n",
       "      <td>0.95085</td>\n",
       "      <td>0.93466</td>\n",
       "      <td>True</td>\n",
       "    </tr>\n",
       "    <tr>\n",
       "      <th>16</th>\n",
       "      <td>[30000:34999]</td>\n",
       "      <td>6</td>\n",
       "      <td>30000</td>\n",
       "      <td>34999</td>\n",
       "      <td>2019-04-30 09:36:00</td>\n",
       "      <td>2019-05-30 16:03:16.848</td>\n",
       "      <td>analysis</td>\n",
       "      <td>0.925911</td>\n",
       "      <td>NaN</td>\n",
       "      <td>0.00644</td>\n",
       "      <td>0.945230</td>\n",
       "      <td>0.906592</td>\n",
       "      <td>0.95085</td>\n",
       "      <td>0.93466</td>\n",
       "      <td>True</td>\n",
       "    </tr>\n",
       "    <tr>\n",
       "      <th>17</th>\n",
       "      <td>[35000:39999]</td>\n",
       "      <td>7</td>\n",
       "      <td>35000</td>\n",
       "      <td>39999</td>\n",
       "      <td>2019-05-30 16:12:00</td>\n",
       "      <td>2019-06-29 22:39:16.848</td>\n",
       "      <td>analysis</td>\n",
       "      <td>0.925166</td>\n",
       "      <td>NaN</td>\n",
       "      <td>0.00644</td>\n",
       "      <td>0.944485</td>\n",
       "      <td>0.905847</td>\n",
       "      <td>0.95085</td>\n",
       "      <td>0.93466</td>\n",
       "      <td>True</td>\n",
       "    </tr>\n",
       "    <tr>\n",
       "      <th>18</th>\n",
       "      <td>[40000:44999]</td>\n",
       "      <td>8</td>\n",
       "      <td>40000</td>\n",
       "      <td>44999</td>\n",
       "      <td>2019-06-29 22:48:00</td>\n",
       "      <td>2019-07-30 05:15:16.848</td>\n",
       "      <td>analysis</td>\n",
       "      <td>0.926541</td>\n",
       "      <td>NaN</td>\n",
       "      <td>0.00644</td>\n",
       "      <td>0.945860</td>\n",
       "      <td>0.907222</td>\n",
       "      <td>0.95085</td>\n",
       "      <td>0.93466</td>\n",
       "      <td>True</td>\n",
       "    </tr>\n",
       "    <tr>\n",
       "      <th>19</th>\n",
       "      <td>[45000:49999]</td>\n",
       "      <td>9</td>\n",
       "      <td>45000</td>\n",
       "      <td>49999</td>\n",
       "      <td>2019-07-30 05:24:00</td>\n",
       "      <td>2019-08-29 11:51:16.848</td>\n",
       "      <td>analysis</td>\n",
       "      <td>0.926724</td>\n",
       "      <td>NaN</td>\n",
       "      <td>0.00644</td>\n",
       "      <td>0.946043</td>\n",
       "      <td>0.907405</td>\n",
       "      <td>0.95085</td>\n",
       "      <td>0.93466</td>\n",
       "      <td>True</td>\n",
       "    </tr>\n",
       "  </tbody>\n",
       "</table>\n",
       "</div>"
      ],
      "text/plain": [
       "            chunk                                                         \\\n",
       "              key chunk_index start_index end_index           start_date   \n",
       "0        [0:4999]           0           0      4999  2018-01-01 00:00:00   \n",
       "1     [5000:9999]           1        5000      9999  2018-01-31 06:36:00   \n",
       "2   [10000:14999]           2       10000     14999  2018-03-02 13:12:00   \n",
       "3   [15000:19999]           3       15000     19999  2018-04-01 19:48:00   \n",
       "4   [20000:24999]           4       20000     24999  2018-05-02 02:24:00   \n",
       "5   [25000:29999]           5       25000     29999  2018-06-01 09:00:00   \n",
       "6   [30000:34999]           6       30000     34999  2018-07-01 15:36:00   \n",
       "7   [35000:39999]           7       35000     39999  2018-07-31 22:12:00   \n",
       "8   [40000:44999]           8       40000     44999  2018-08-31 04:48:00   \n",
       "9   [45000:49999]           9       45000     49999  2018-09-30 11:24:00   \n",
       "10       [0:4999]           0           0      4999  2018-10-30 18:00:00   \n",
       "11    [5000:9999]           1        5000      9999  2018-11-30 00:36:00   \n",
       "12  [10000:14999]           2       10000     14999  2018-12-30 07:12:00   \n",
       "13  [15000:19999]           3       15000     19999  2019-01-29 13:48:00   \n",
       "14  [20000:24999]           4       20000     24999  2019-02-28 20:24:00   \n",
       "15  [25000:29999]           5       25000     29999  2019-03-31 03:00:00   \n",
       "16  [30000:34999]           6       30000     34999  2019-04-30 09:36:00   \n",
       "17  [35000:39999]           7       35000     39999  2019-05-30 16:12:00   \n",
       "18  [40000:44999]           8       40000     44999  2019-06-29 22:48:00   \n",
       "19  [45000:49999]           9       45000     49999  2019-07-30 05:24:00   \n",
       "\n",
       "                                              f1                           \\\n",
       "                   end_date     period     value  realized sampling_error   \n",
       "0   2018-01-31 06:27:16.848  reference  0.942851  0.944707        0.00644   \n",
       "1   2018-03-02 13:03:16.848  reference  0.940523  0.937564        0.00644   \n",
       "2   2018-04-01 19:39:16.848  reference  0.943179  0.945973        0.00644   \n",
       "3   2018-05-02 02:15:16.848  reference  0.942702  0.943212        0.00644   \n",
       "4   2018-06-01 08:51:16.848  reference  0.942271  0.937989        0.00644   \n",
       "5   2018-07-01 15:27:16.848  reference  0.942388  0.942581        0.00644   \n",
       "6   2018-07-31 22:03:16.848  reference  0.940747  0.944140        0.00644   \n",
       "7   2018-08-31 04:39:16.848  reference  0.944715  0.944612        0.00644   \n",
       "8   2018-09-30 11:15:16.848  reference  0.944234  0.944523        0.00644   \n",
       "9   2018-10-30 17:51:16.848  reference  0.943909  0.942249        0.00644   \n",
       "10  2018-11-30 00:27:16.848   analysis  0.943218       NaN        0.00644   \n",
       "11  2018-12-30 07:03:16.848   analysis  0.941106       NaN        0.00644   \n",
       "12  2019-01-29 13:39:16.848   analysis  0.942974       NaN        0.00644   \n",
       "13  2019-02-28 20:15:16.848   analysis  0.942331       NaN        0.00644   \n",
       "14  2019-03-31 02:51:16.848   analysis  0.944021       NaN        0.00644   \n",
       "15  2019-04-30 09:27:16.848   analysis  0.925582       NaN        0.00644   \n",
       "16  2019-05-30 16:03:16.848   analysis  0.925911       NaN        0.00644   \n",
       "17  2019-06-29 22:39:16.848   analysis  0.925166       NaN        0.00644   \n",
       "18  2019-07-30 05:15:16.848   analysis  0.926541       NaN        0.00644   \n",
       "19  2019-08-29 11:51:16.848   analysis  0.926724       NaN        0.00644   \n",
       "\n",
       "                                                                        \\\n",
       "   upper_confidence_boundary lower_confidence_boundary upper_threshold   \n",
       "0                   0.962170                  0.923532         0.95085   \n",
       "1                   0.959842                  0.921204         0.95085   \n",
       "2                   0.962498                  0.923859         0.95085   \n",
       "3                   0.962021                  0.923383         0.95085   \n",
       "4                   0.961591                  0.922952         0.95085   \n",
       "5                   0.961708                  0.923069         0.95085   \n",
       "6                   0.960066                  0.921428         0.95085   \n",
       "7                   0.964035                  0.925396         0.95085   \n",
       "8                   0.963553                  0.924915         0.95085   \n",
       "9                   0.963228                  0.924590         0.95085   \n",
       "10                  0.962537                  0.923898         0.95085   \n",
       "11                  0.960425                  0.921787         0.95085   \n",
       "12                  0.962293                  0.923655         0.95085   \n",
       "13                  0.961650                  0.923011         0.95085   \n",
       "14                  0.963340                  0.924702         0.95085   \n",
       "15                  0.944901                  0.906263         0.95085   \n",
       "16                  0.945230                  0.906592         0.95085   \n",
       "17                  0.944485                  0.905847         0.95085   \n",
       "18                  0.945860                  0.907222         0.95085   \n",
       "19                  0.946043                  0.907405         0.95085   \n",
       "\n",
       "                           \n",
       "   lower_threshold  alert  \n",
       "0          0.93466  False  \n",
       "1          0.93466  False  \n",
       "2          0.93466  False  \n",
       "3          0.93466  False  \n",
       "4          0.93466  False  \n",
       "5          0.93466  False  \n",
       "6          0.93466  False  \n",
       "7          0.93466  False  \n",
       "8          0.93466  False  \n",
       "9          0.93466  False  \n",
       "10         0.93466  False  \n",
       "11         0.93466  False  \n",
       "12         0.93466  False  \n",
       "13         0.93466  False  \n",
       "14         0.93466  False  \n",
       "15         0.93466   True  \n",
       "16         0.93466   True  \n",
       "17         0.93466   True  \n",
       "18         0.93466   True  \n",
       "19         0.93466   True  "
      ]
     },
     "execution_count": 15,
     "metadata": {},
     "output_type": "execute_result"
    }
   ],
   "source": [
    "results = pd.read_csv(transformer.output_path + \"/\" + inference_dataset.split(\"/\")[-1] + \".out\", header = [0,1])\n",
    "results"
   ]
  },
  {
   "cell_type": "markdown",
   "metadata": {},
   "source": [
    "## 6. Clean-up"
   ]
  },
  {
   "cell_type": "markdown",
   "metadata": {},
   "source": [
    "### A. Delete the model"
   ]
  },
  {
   "cell_type": "code",
   "execution_count": 16,
   "metadata": {
    "tags": []
   },
   "outputs": [
    {
     "name": "stderr",
     "output_type": "stream",
     "text": [
      "INFO:sagemaker:Deleting model with name: nannyml-mcbpe-algorithm-20231123091829--2023-11-23-11-34-42-621\n"
     ]
    }
   ],
   "source": [
    "transformer.delete_model()"
   ]
  },
  {
   "cell_type": "markdown",
   "metadata": {},
   "source": [
    "### B. Unsubscribe to the listing (optional)"
   ]
  },
  {
   "cell_type": "markdown",
   "metadata": {},
   "source": [
    "If you would like to unsubscribe to the algorithm, follow these steps. Before you cancel the subscription, ensure that you do not have any [deployable model](https://console.aws.amazon.com/sagemaker/home#/models) created from the model package or using the algorithm. Note - You can find this information by looking at the container name associated with the model. \n",
    "\n",
    "**Steps to unsubscribe to product from AWS Marketplace**:\n",
    "1. Navigate to __Machine Learning__ tab on [__Your Software subscriptions page__](https://aws.amazon.com/marketplace/ai/library?productType=ml&ref_=mlmp_gitdemo_indust)\n",
    "2. Locate the listing that you want to cancel the subscription for, and then choose __Cancel Subscription__  to cancel the subscription.\n",
    "\n"
   ]
  },
  {
   "cell_type": "code",
   "execution_count": null,
   "metadata": {},
   "outputs": [],
   "source": []
  }
 ],
 "metadata": {
  "kernelspec": {
   "display_name": "conda_python3",
   "language": "python",
   "name": "conda_python3"
  },
  "language_info": {
   "codemirror_mode": {
    "name": "ipython",
    "version": 3
   },
   "file_extension": ".py",
   "mimetype": "text/x-python",
   "name": "python",
   "nbconvert_exporter": "python",
   "pygments_lexer": "ipython3",
   "version": "3.10.13"
  }
 },
 "nbformat": 4,
 "nbformat_minor": 4
}
